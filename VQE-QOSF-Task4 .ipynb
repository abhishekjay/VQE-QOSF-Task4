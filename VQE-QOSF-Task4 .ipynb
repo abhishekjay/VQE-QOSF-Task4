{
 "cells": [
  {
   "cell_type": "markdown",
   "metadata": {},
   "source": [
    "# QOSF Screening Task 4"
   ]
  },
  {
   "cell_type": "markdown",
   "metadata": {},
   "source": [
    "### Task"
   ]
  },
  {
   "cell_type": "markdown",
   "metadata": {},
   "source": [
    "Find the lowest eigenvalue of the following matrix:\n",
    "\n",
    "[1 0 0 0;\n",
    "0 0 -1 0;\n",
    "0 -1 0 0;\n",
    "0 0 0 1]\n",
    "\n",
    "using VQE-like circuits, created by yourself from scratch."
   ]
  },
  {
   "cell_type": "markdown",
   "metadata": {},
   "source": [
    "### Solution"
   ]
  },
  {
   "cell_type": "markdown",
   "metadata": {},
   "source": [
    "For the solution, I have referred to the following paper by P.J.J O'Malley et al.\n",
    "[Scalable Quantum Simulation of Molecular Energies](https://journals.aps.org/prx/pdf/10.1103/PhysRevX.6.031007)\n",
    "\n",
    "A high level sketch of the VQE circuit I prepared is provided, which is also from O'Malley's research paper.\n",
    "![image](https://github.com/abhishekjay/VQE-QOSF-Task4/blob/master/assets/vqe-circuitplan.PNG?raw=true)"
   ]
  },
  {
   "cell_type": "markdown",
   "metadata": {},
   "source": [
    "#### Importing necessary packages"
   ]
  },
  {
   "cell_type": "code",
   "execution_count": 1,
   "metadata": {},
   "outputs": [],
   "source": [
    "import numpy as np\n",
    "from scipy.linalg import block_diag\n",
    "from scipy.optimize import minimize"
   ]
  },
  {
   "cell_type": "markdown",
   "metadata": {},
   "source": [
    "#### Let us define the matrices of the gates to be used. "
   ]
  },
  {
   "cell_type": "markdown",
   "metadata": {},
   "source": [
    "Pauli matrices"
   ]
  },
  {
   "cell_type": "code",
   "execution_count": 2,
   "metadata": {},
   "outputs": [],
   "source": [
    "I = np.array([[1, 0],\n",
    "              [0, 1]])\n",
    "\n",
    "PauliX = np.array([[0, 1],\n",
    "                   [1, 0]])\n",
    "\n",
    "PauliY = np.array([[0,-1j],\n",
    "                   [1j, 0]])\n",
    "\n",
    "PauliZ = np.array([[1, 0],\n",
    "                   [0,-1]])"
   ]
  },
  {
   "cell_type": "markdown",
   "metadata": {},
   "source": [
    "Hadamard, Phase and Rotational gates."
   ]
  },
  {
   "cell_type": "code",
   "execution_count": 3,
   "metadata": {},
   "outputs": [],
   "source": [
    "# Hadamard gate\n",
    "H = (1/np.sqrt(2))*np.array([[ 1, 1],\n",
    "                             [ 1,-1]])\n",
    "\n",
    "# Phase matrix\n",
    "S = np.array([[ 1, 0],\n",
    "              [ 0,1j]])\n",
    "\n",
    "# single qubit basis states |0> and |1>\n",
    "q0 = np.array([[1],\n",
    "               [0]])\n",
    "q1 = np.array([[0],\n",
    "               [1]])\n",
    "\n",
    "# Projection matrices |0><0| and |1><1|\n",
    "P0  = np.dot(q0,q0.conj().T)\n",
    "P1  = np.dot(q1,q1.conj().T)\n",
    "\n",
    "\n",
    "# Rotation matrices Rx, Ry and Rz\n",
    "Rx = lambda theta : np.array([[    np.cos(theta/2),-1j*np.sin(theta/2)],\n",
    "                              [-1j*np.sin(theta/2),    np.cos(theta/2)]])\n",
    "Ry = lambda theta : np.array([[    np.cos(theta/2),   -np.sin(theta/2)],\n",
    "                              [    np.sin(theta/2),    np.cos(theta/2)]])\n",
    "Rz = lambda theta : np.array([[np.exp(-1j*theta/2),                0.0],\n",
    "                              [                0.0, np.exp(1j*theta/2)]])"
   ]
  },
  {
   "cell_type": "markdown",
   "metadata": {},
   "source": [
    "Entanglement and SWAP gates"
   ]
  },
  {
   "cell_type": "code",
   "execution_count": 4,
   "metadata": {},
   "outputs": [],
   "source": [
    "# CNOTij, where i is control qubit and j is target qubit\n",
    "CNOT10 = np.array([[1,0,0,0],\n",
    "                   [0,1,0,0],\n",
    "                   [0,0,0,1],\n",
    "                   [0,0,1,0]])\n",
    "\n",
    "CNOT01 = np.array([[1,0,0,0],\n",
    "                   [0,0,0,1],\n",
    "                   [0,0,1,0],\n",
    "                   [0,1,0,0]])\n",
    "\n",
    "SWAP   = np.array([[1,0,0,0],\n",
    "                   [0,0,1,0],\n",
    "                   [0,1,0,0],\n",
    "                   [0,0,0,1]])"
   ]
  },
  {
   "cell_type": "markdown",
   "metadata": {},
   "source": [
    "#### Next, we define the function for decomposing the Hamiltonian into Pauli matrices."
   ]
  },
  {
   "cell_type": "code",
   "execution_count": 5,
   "metadata": {},
   "outputs": [],
   "source": [
    "#Hilbert-Schmidt-Product of two matrices M1, M2\n",
    "def HS(M1, M2):\n",
    "    return (np.dot(M1.conjugate().transpose(), M2)).trace()\n",
    "\n",
    "def decompose(H):   \n",
    "    S = [I, PauliX, PauliY, PauliZ]\n",
    "    labels = ['I', 'Pauli_x', 'Pauli_y', 'Pauli_z']\n",
    "    for i in range(4):\n",
    "        for j in range(4):\n",
    "            label = labels[i] + ' \\otimes ' + labels[j]\n",
    "            a_ij = 0.25 * HS(np.kron(S[i], S[j]), H)\n",
    "            if a_ij != 0.0:\n",
    "                print(a_ij,\"    *    \", label)"
   ]
  },
  {
   "cell_type": "code",
   "execution_count": 6,
   "metadata": {},
   "outputs": [
    {
     "name": "stdout",
     "output_type": "stream",
     "text": [
      "(0.5+0j)     *     I \\otimes I\n",
      "(-0.5+0j)     *     Pauli_x \\otimes Pauli_x\n",
      "(-0.5+0j)     *     Pauli_y \\otimes Pauli_y\n",
      "(0.5+0j)     *     Pauli_z \\otimes Pauli_z\n"
     ]
    }
   ],
   "source": [
    "Hamiltonian = np.array([[1,0,0,0],[0,0,-1,0],[0,-1,0,0],[0,0,0,1]], dtype=np.complex128)\n",
    "decompose(Hamiltonian)"
   ]
  },
  {
   "cell_type": "markdown",
   "metadata": {},
   "source": [
    "#### We have decomposed the Hamiltonian and obtained the coefficients. "
   ]
  },
  {
   "cell_type": "code",
   "execution_count": 7,
   "metadata": {},
   "outputs": [],
   "source": [
    "g0 = 0.5      # coefficient of I tensor I\n",
    "g1 = +0.5     # coefficient of Pauli Z tensor Pauli Z\n",
    "g2 = -0.5     # coefficient of Pauli Y tensor Pauli Y\n",
    "g3 = -0.5     # coefficient of Pauli X tensor Pauli X"
   ]
  },
  {
   "cell_type": "markdown",
   "metadata": {},
   "source": [
    "The classical minimum expectation energy of the Hamiltonian can be calculated by taking the first entry from np.linalg.eigvalsh(Hamiltonian)."
   ]
  },
  {
   "cell_type": "code",
   "execution_count": 8,
   "metadata": {},
   "outputs": [
    {
     "name": "stdout",
     "output_type": "stream",
     "text": [
      "Classical diagonalization energy:  -1.0\n"
     ]
    }
   ],
   "source": [
    "classical_energy = np.linalg.eigvalsh(Hamiltonian)[0] # taking the lowest value\n",
    "print(\"Classical diagonalization energy: \", classical_energy)"
   ]
  },
  {
   "cell_type": "markdown",
   "metadata": {},
   "source": [
    "Now let's define the initial state of the qubits. We take the intial state as |01>. "
   ]
  },
  {
   "cell_type": "code",
   "execution_count": 9,
   "metadata": {},
   "outputs": [
    {
     "name": "stdout",
     "output_type": "stream",
     "text": [
      "[[0.]\n",
      " [1.]\n",
      " [0.]\n",
      " [0.]]\n"
     ]
    }
   ],
   "source": [
    "# initializing basis state as |01> \n",
    "psi0 = np.zeros((4,1))\n",
    "psi0[1] = 1\n",
    "print(psi0)"
   ]
  },
  {
   "cell_type": "markdown",
   "metadata": {},
   "source": [
    "#### For the ansatz, we choose the following quantum circuit. The blue line shows qubit 1 and the red line qubit 0. RZ is the rotational gate with variational parameter theta."
   ]
  },
  {
   "cell_type": "markdown",
   "metadata": {},
   "source": [
    "![image](https://github.com/abhishekjay/VQE-QOSF-Task4/blob/master/assets/vqe-ansatz.PNG?raw=true)"
   ]
  },
  {
   "cell_type": "code",
   "execution_count": 10,
   "metadata": {},
   "outputs": [],
   "source": [
    "# the ansatz is read from right to left\n",
    "ansatz = lambda theta: (np.dot(np.dot(np.kron(-Ry(np.pi/2),Rx(np.pi/2)),\n",
    "                                      np.dot(CNOT10, \n",
    "                                             np.dot(np.kron(I,Rz(theta)),\n",
    "                                                    CNOT10))),\n",
    "                               np.kron(Ry(np.pi/2),-Rx(np.pi/2))))"
   ]
  },
  {
   "cell_type": "markdown",
   "metadata": {},
   "source": [
    "#### We can now define the projective measurements for each decomposition. "
   ]
  },
  {
   "cell_type": "code",
   "execution_count": 11,
   "metadata": {},
   "outputs": [],
   "source": [
    "def projective(theta,ansatz,psi0):\n",
    "    circuit = ansatz(theta)\n",
    "    psi = np.dot(circuit,psi0)\n",
    "    \n",
    "    measureZ = lambda U: np.dot(np.conj(U).T,np.dot(np.kron(PauliZ,I),U))   \n",
    "    \n",
    "    energy = 0.0\n",
    "     \n",
    "    energy += g0\n",
    "\n",
    "    # <PauliZ1 PauliZ0>\n",
    "    U = CNOT01\n",
    "    energy += g1*np.dot(psi.conj().T,np.dot(measureZ(U),psi))\n",
    "    \n",
    "    # <PauliY1 PauliY0>\n",
    "    U = np.dot(CNOT01,np.kron(np.dot(H,S.conj().T),np.dot(H,S.conj().T)))\n",
    "    energy += g2*np.dot(psi.conj().T,np.dot(measureZ(U),psi))\n",
    "\n",
    "    # <PauliX1 PauliX0>\n",
    "    U = np.dot(CNOT01,np.kron(H,H))\n",
    "    energy += g3*np.dot(psi.conj().T,np.dot(measureZ(U),psi))\n",
    "\n",
    "    return np.real(energy)[0,0]"
   ]
  },
  {
   "cell_type": "markdown",
   "metadata": {},
   "source": [
    "#### Finally, we can estimate the lowest eigenstate of the hamiltonian using VQE, by minimizing the energy."
   ]
  },
  {
   "cell_type": "code",
   "execution_count": 12,
   "metadata": {},
   "outputs": [
    {
     "name": "stdout",
     "output_type": "stream",
     "text": [
      "0.017452406437283075\n",
      "0.03489949670250054\n",
      "0.05233595624294342\n",
      "0.06975647374412489\n",
      "0.08715574274765765\n",
      "0.1045284632676532\n",
      "0.12186934340514709\n",
      "0.13917310096006505\n",
      "0.15643446504023045\n",
      "0.17364817766692994\n",
      "0.19080899537654436\n",
      "0.207911690817759\n",
      "0.22495105434386464\n",
      "0.24192189559966737\n",
      "0.2588190451025204\n",
      "0.2756373558169988\n",
      "0.29237170472273644\n",
      "0.3090169943749471\n",
      "0.32556815445715637\n",
      "0.3420201433256683\n",
      "0.3583679495453\n",
      "0.3746065934159118\n",
      "0.39073112848927355\n",
      "0.40673664307580004\n",
      "0.4226182617406992\n",
      "0.4383711467890772\n",
      "0.4539904997395465\n",
      "0.4694715627858906\n",
      "0.48480962024633684\n",
      "0.4999999999999998\n",
      "0.5150380749100539\n",
      "0.5299192642332047\n",
      "0.544639035015027\n",
      "0.5591929034707467\n",
      "0.5735764363510458\n",
      "0.5877852522924729\n",
      "0.601815023152048\n",
      "0.6156614753256581\n",
      "0.6293203910498372\n",
      "0.642787609686539\n",
      "0.6560590289905069\n",
      "0.669130606358858\n",
      "0.6819983600624984\n",
      "0.694658370458997\n",
      "0.7071067811865475\n",
      "0.7193398003386511\n",
      "0.7313537016191705\n",
      "0.7431448254773942\n",
      "0.7547095802227719\n",
      "0.766044443118978\n",
      "0.7771459614569709\n",
      "0.7880107536067218\n",
      "0.7986355100472927\n",
      "0.8090169943749472\n",
      "0.8191520442889916\n",
      "0.8290375725550416\n",
      "0.8386705679454239\n",
      "0.8480480961564261\n",
      "0.8571673007021122\n",
      "0.8660254037844386\n",
      "0.8746197071393957\n",
      "0.8829475928589269\n",
      "0.8910065241883677\n",
      "0.8987940462991669\n",
      "0.9063077870366499\n",
      "0.913545457642601\n",
      "0.9205048534524403\n",
      "0.9271838545667875\n",
      "0.9335804264972019\n",
      "0.9396926207859084\n",
      "0.9455185755993168\n",
      "0.9510565162951535\n",
      "0.9563047559630354\n",
      "0.9612616959383189\n",
      "0.9659258262890684\n",
      "0.9702957262759965\n",
      "0.9743700647852352\n",
      "0.9781476007338055\n",
      "0.981627183447664\n",
      "0.9848077530122079\n",
      "0.9876883405951378\n",
      "0.9902680687415704\n",
      "0.9925461516413219\n",
      "0.9945218953682732\n",
      "0.9961946980917454\n",
      "0.9975640502598241\n",
      "0.9986295347545737\n",
      "0.9993908270190955\n",
      "0.999847695156391\n",
      "0.9999999999999999\n",
      "0.999847695156391\n",
      "0.9993908270190955\n",
      "0.9986295347545737\n",
      "0.9975640502598241\n",
      "0.9961946980917454\n",
      "0.9945218953682732\n",
      "0.9925461516413219\n",
      "0.9902680687415704\n",
      "0.9876883405951378\n",
      "0.9848077530122081\n",
      "0.981627183447664\n",
      "0.9781476007338056\n",
      "0.9743700647852352\n",
      "0.9702957262759965\n",
      "0.9659258262890684\n",
      "0.9612616959383191\n",
      "0.9563047559630355\n",
      "0.9510565162951535\n",
      "0.9455185755993168\n",
      "0.9396926207859084\n",
      "0.9335804264972019\n",
      "0.9271838545667873\n",
      "0.9205048534524403\n",
      "0.913545457642601\n",
      "0.90630778703665\n",
      "0.8987940462991669\n",
      "0.8910065241883679\n",
      "0.8829475928589269\n",
      "0.8746197071393959\n",
      "0.8660254037844388\n",
      "0.8571673007021123\n",
      "0.8480480961564261\n",
      "0.8386705679454239\n",
      "0.8290375725550417\n",
      "0.8191520442889917\n",
      "0.8090169943749473\n",
      "0.7986355100472927\n",
      "0.7880107536067219\n",
      "0.7771459614569709\n",
      "0.766044443118978\n",
      "0.754709580222772\n",
      "0.7431448254773942\n",
      "0.7313537016191705\n",
      "0.719339800338651\n",
      "0.7071067811865477\n",
      "0.6946583704589969\n",
      "0.6819983600624984\n",
      "0.6691306063588581\n",
      "0.6560590289905069\n",
      "0.6427876096865393\n",
      "0.6293203910498372\n",
      "0.6156614753256582\n",
      "0.6018150231520479\n",
      "0.5877852522924729\n",
      "0.5735764363510458\n",
      "0.5591929034707467\n",
      "0.5446390350150271\n",
      "0.5299192642332047\n",
      "0.5150380749100542\n",
      "0.4999999999999998\n",
      "0.48480962024633695\n",
      "0.4694715627858905\n",
      "0.45399049973954664\n",
      "0.43837114678907707\n",
      "0.4226182617406993\n",
      "0.4067366430758002\n",
      "0.39073112848927355\n",
      "0.374606593415912\n",
      "0.35836794954529994\n",
      "0.3420201433256685\n",
      "0.32556815445715626\n",
      "0.30901699437494723\n",
      "0.29237170472273627\n",
      "0.2756373558169988\n",
      "0.2588190451025207\n",
      "0.2419218955996674\n",
      "0.22495105434386486\n",
      "0.20791169081775895\n",
      "0.1908089953765446\n",
      "0.1736481776669299\n",
      "0.15643446504023056\n",
      "0.1391731009600649\n",
      "0.12186934340514716\n",
      "0.10452846326765346\n",
      "0.08715574274765767\n",
      "0.06975647374412511\n",
      "0.05233595624294339\n",
      "0.03489949670250071\n",
      "0.017452406437282998\n",
      "-3.2162452993532727e-16\n",
      "-0.017452406437284088\n",
      "-0.03489949670250136\n",
      "-0.052335956242944036\n",
      "-0.06975647374412575\n",
      "-0.08715574274765843\n",
      "-0.10452846326765387\n",
      "-0.12186934340514792\n",
      "-0.139173100960066\n",
      "-0.15643446504023123\n",
      "-0.17364817766693097\n",
      "-0.19080899537654541\n",
      "-0.20791169081776006\n",
      "-0.2249510543438655\n",
      "-0.24192189559966806\n",
      "-0.25881904510252135\n",
      "-0.27563735581699966\n",
      "-0.2923717047227374\n",
      "-0.3090169943749479\n",
      "-0.32556815445715737\n",
      "-0.34202014332566916\n",
      "-0.358367949545301\n",
      "-0.3746065934159127\n",
      "-0.39073112848927416\n",
      "-0.40673664307580093\n",
      "-0.42261826174069994\n",
      "-0.4383711467890781\n",
      "-0.4539904997395473\n",
      "-0.4694715627858916\n",
      "-0.4848096202463376\n",
      "-0.5000000000000009\n",
      "-0.5150380749100548\n",
      "-0.5299192642332053\n",
      "-0.5446390350150279\n",
      "-0.5591929034707475\n",
      "-0.5735764363510467\n",
      "-0.5877852522924738\n",
      "-0.601815023152049\n",
      "-0.6156614753256588\n",
      "-0.6293203910498382\n",
      "-0.6427876096865399\n",
      "-0.6560590289905077\n",
      "-0.6691306063588589\n",
      "-0.681998360062499\n",
      "-0.694658370458998\n",
      "-0.7071067811865483\n",
      "-0.7193398003386521\n",
      "-0.7313537016191712\n",
      "-0.7431448254773952\n",
      "-0.7547095802227728\n",
      "-0.7660444431189789\n",
      "-0.7771459614569716\n",
      "-0.7880107536067229\n",
      "-0.7986355100472937\n",
      "-0.8090169943749483\n",
      "-0.8191520442889927\n",
      "-0.8290375725550427\n",
      "-0.838670567945425\n",
      "-0.8480480961564271\n",
      "-0.857167300702113\n",
      "-0.8660254037844393\n",
      "-0.874619707139397\n",
      "-0.8829475928589281\n",
      "-0.8910065241883688\n",
      "-0.8987940462991677\n",
      "-0.906307787036651\n",
      "-0.9135454576426019\n",
      "-0.9205048534524414\n",
      "-0.9271838545667881\n",
      "-0.9335804264972025\n",
      "-0.9396926207859093\n",
      "-0.945518575599318\n",
      "-0.9510565162951544\n",
      "-0.9563047559630362\n",
      "-0.9612616959383198\n",
      "-0.9659258262890693\n",
      "-0.9702957262759976\n",
      "-0.9743700647852361\n",
      "-0.9781476007338064\n",
      "-0.9816271834476649\n",
      "-0.984807753012209\n",
      "-0.9876883405951384\n",
      "-0.9902680687415713\n",
      "-0.9925461516413226\n",
      "-0.9945218953682738\n",
      "-0.9961946980917461\n",
      "-0.9975640502598246\n",
      "-0.9986295347545742\n",
      "-0.9993908270190962\n",
      "-0.9998476951563917\n",
      "-1.0000000000000004\n",
      "-0.9998476951563917\n",
      "-0.9993908270190962\n",
      "-0.9986295347545742\n",
      "-0.9975640502598245\n",
      "-0.9961946980917461\n",
      "-0.9945218953682738\n",
      "-0.9925461516413224\n",
      "-0.9902680687415713\n",
      "-0.9876883405951389\n",
      "-0.984807753012209\n",
      "-0.9816271834476646\n",
      "-0.9781476007338064\n",
      "-0.9743700647852364\n",
      "-0.9702957262759976\n",
      "-0.9659258262890696\n",
      "-0.9612616959383198\n",
      "-0.9563047559630363\n",
      "-0.9510565162951546\n",
      "-0.9455185755993178\n",
      "-0.9396926207859093\n",
      "-0.9335804264972027\n",
      "-0.9271838545667884\n",
      "-0.9205048534524413\n",
      "-0.9135454576426022\n",
      "-0.9063077870366508\n",
      "-0.8987940462991678\n",
      "-0.8910065241883688\n",
      "-0.8829475928589282\n",
      "-0.8746197071393964\n",
      "-0.8660254037844395\n",
      "-0.8571673007021133\n",
      "-0.8480480961564271\n",
      "-0.8386705679454253\n",
      "-0.8290375725550424\n",
      "-0.8191520442889927\n",
      "-0.8090169943749483\n",
      "-0.798635510047294\n",
      "-0.7880107536067226\n",
      "-0.7771459614569717\n",
      "-0.766044443118979\n",
      "-0.754709580222773\n",
      "-0.7431448254773954\n",
      "-0.7313537016191712\n",
      "-0.7193398003386522\n",
      "-0.7071067811865486\n",
      "-0.6946583704589983\n",
      "-0.6819983600624989\n",
      "-0.6691306063588588\n",
      "-0.656059028990508\n",
      "-0.6427876096865403\n",
      "-0.6293203910498385\n",
      "-0.6156614753256588\n",
      "-0.6018150231520489\n",
      "-0.587785252292474\n",
      "-0.5735764363510472\n",
      "-0.5591929034707472\n",
      "-0.5446390350150276\n",
      "-0.5299192642332058\n",
      "-0.5150380749100552\n",
      "-0.5000000000000011\n",
      "-0.4848096202463374\n",
      "-0.46947156278589147\n",
      "-0.45399049973954764\n",
      "-0.4383711467890784\n",
      "-0.42261826174069983\n",
      "-0.4067366430758008\n",
      "-0.39073112848927455\n",
      "-0.3746065934159131\n",
      "-0.3583679495453013\n",
      "-0.3420201433256691\n",
      "-0.32556815445715725\n",
      "-0.30901699437494806\n",
      "-0.2923717047227377\n",
      "-0.27563735581699955\n",
      "-0.2588190451025213\n",
      "-0.2419218955996684\n",
      "-0.22495105434386586\n",
      "-0.2079116908177604\n",
      "-0.19080899537654533\n",
      "-0.1736481776669309\n",
      "-0.15643446504023162\n",
      "-0.13917310096006638\n",
      "-0.12186934340514785\n",
      "-0.1045284632676538\n",
      "-0.0871557427476589\n",
      "-0.06975647374412612\n",
      "-0.05233595624294485\n",
      "-0.03489949670250128\n",
      "-0.01745240643728401\n",
      "-6.890185696795333e-16\n",
      "VQE: \n",
      "theta:  4.71238898038469  rad\n",
      "energy:  -1.0000000000000004  Eh\n"
     ]
    }
   ],
   "source": [
    "theta  = np.linspace(0, 2*np.pi, 361)\n",
    "result = [0.0]\n",
    "min_energy = 0\n",
    "theta_final = 0\n",
    "#result = minimize(projective,theta,args=(ansatz,psi0))\n",
    "for i in range(1,361):\n",
    "    energy = projective(theta[i], ansatz, psi0)\n",
    "    result.append(energy)\n",
    "    print(energy)\n",
    "    if(result[i]<result[i-1]):\n",
    "        min_energy = result[i]\n",
    "        theta_final = theta[i]\n",
    "print(\"VQE: \")\n",
    "print(\"theta: \", theta_final, \" rad\")\n",
    "print(\"energy: \", min_energy, \" Eh\")"
   ]
  },
  {
   "cell_type": "markdown",
   "metadata": {},
   "source": [
    "#### The energy values obtained from classical solution and VQE match."
   ]
  }
 ],
 "metadata": {
  "kernelspec": {
   "display_name": "Python 3",
   "language": "python",
   "name": "python3"
  },
  "language_info": {
   "codemirror_mode": {
    "name": "ipython",
    "version": 3
   },
   "file_extension": ".py",
   "mimetype": "text/x-python",
   "name": "python",
   "nbconvert_exporter": "python",
   "pygments_lexer": "ipython3",
   "version": "3.7.6"
  }
 },
 "nbformat": 4,
 "nbformat_minor": 4
}

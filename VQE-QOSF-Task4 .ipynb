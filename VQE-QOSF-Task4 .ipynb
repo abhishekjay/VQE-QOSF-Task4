{
 "cells": [
  {
   "cell_type": "markdown",
   "metadata": {},
   "source": [
    "# QOSF Screening Task 4"
   ]
  },
  {
   "cell_type": "markdown",
   "metadata": {},
   "source": [
    "### Task"
   ]
  },
  {
   "cell_type": "markdown",
   "metadata": {},
   "source": [
    "Find the lowest eigenvalue of the following matrix:\n",
    "\n",
    "[1 0 0 0;\n",
    "0 0 -1 0;\n",
    "0 -1 0 0;\n",
    "0 0 0 1]\n",
    "\n",
    "using VQE-like circuits, created by yourself from scratch."
   ]
  },
  {
   "cell_type": "markdown",
   "metadata": {},
   "source": [
    "### Solution"
   ]
  },
  {
   "cell_type": "markdown",
   "metadata": {},
   "source": [
    "For the solution, I have referred to the following paper by P.J.J O'Malley et al.\n",
    "[Scalable Quantum Simulation of Molecular Energies](https://journals.aps.org/prx/pdf/10.1103/PhysRevX.6.031007)\n",
    "\n",
    "A high level sketch of the VQE circuit I prepared is provided, which is also from O'Malley's research paper.\n",
    "![image](https://github.com/abhishekjay/VQE-QOSF-Task4/blob/master/assets/vqe-circuitplan.PNG?raw=true)"
   ]
  },
  {
   "cell_type": "markdown",
   "metadata": {},
   "source": [
    "#### Importing necessary packages"
   ]
  },
  {
   "cell_type": "code",
   "execution_count": 1,
   "metadata": {},
   "outputs": [],
   "source": [
    "import numpy as np\n",
    "from scipy.linalg import block_diag\n",
    "from scipy.optimize import minimize"
   ]
  },
  {
   "cell_type": "markdown",
   "metadata": {},
   "source": [
    "#### Let us define the matrices of the gates to be used. "
   ]
  },
  {
   "cell_type": "markdown",
   "metadata": {},
   "source": [
    "Pauli matrices"
   ]
  },
  {
   "cell_type": "code",
   "execution_count": 2,
   "metadata": {},
   "outputs": [],
   "source": [
    "I = np.array([[1, 0],\n",
    "              [0, 1]])\n",
    "\n",
    "PauliX = np.array([[0, 1],\n",
    "                   [1, 0]])\n",
    "\n",
    "PauliY = np.array([[0,-1j],\n",
    "                   [1j, 0]])\n",
    "\n",
    "PauliZ = np.array([[1, 0],\n",
    "                   [0,-1]])"
   ]
  },
  {
   "cell_type": "markdown",
   "metadata": {},
   "source": [
    "Hadamard, Phase and Rotational gates."
   ]
  },
  {
   "cell_type": "code",
   "execution_count": 3,
   "metadata": {},
   "outputs": [],
   "source": [
    "# Hadamard gate\n",
    "H = (1/np.sqrt(2))*np.array([[ 1, 1],\n",
    "                             [ 1,-1]])\n",
    "\n",
    "# Phase matrix\n",
    "S = np.array([[ 1, 0],\n",
    "              [ 0,1j]])\n",
    "\n",
    "# single qubit basis states |0> and |1>\n",
    "q0 = np.array([[1],\n",
    "               [0]])\n",
    "q1 = np.array([[0],\n",
    "               [1]])\n",
    "\n",
    "# Projection matrices |0><0| and |1><1|\n",
    "P0  = np.dot(q0,q0.conj().T)\n",
    "P1  = np.dot(q1,q1.conj().T)\n",
    "\n",
    "\n",
    "# Rotation matrices Rx, Ry and Rz\n",
    "Rx = lambda theta : np.array([[    np.cos(theta/2),-1j*np.sin(theta/2)],\n",
    "                              [-1j*np.sin(theta/2),    np.cos(theta/2)]])\n",
    "Ry = lambda theta : np.array([[    np.cos(theta/2),   -np.sin(theta/2)],\n",
    "                              [    np.sin(theta/2),    np.cos(theta/2)]])\n",
    "Rz = lambda theta : np.array([[np.exp(-1j*theta/2),                0.0],\n",
    "                              [                0.0, np.exp(1j*theta/2)]])"
   ]
  },
  {
   "cell_type": "markdown",
   "metadata": {},
   "source": [
    "Entanglement and SWAP gates"
   ]
  },
  {
   "cell_type": "code",
   "execution_count": 4,
   "metadata": {},
   "outputs": [],
   "source": [
    "# CNOTij, where i is control qubit and j is target qubit\n",
    "CNOT10 = np.array([[1,0,0,0],\n",
    "                   [0,1,0,0],\n",
    "                   [0,0,0,1],\n",
    "                   [0,0,1,0]])\n",
    "\n",
    "CNOT01 = np.array([[1,0,0,0],\n",
    "                   [0,0,0,1],\n",
    "                   [0,0,1,0],\n",
    "                   [0,1,0,0]])\n",
    "\n",
    "SWAP   = np.array([[1,0,0,0],\n",
    "                   [0,0,1,0],\n",
    "                   [0,1,0,0],\n",
    "                   [0,0,0,1]])"
   ]
  },
  {
   "cell_type": "markdown",
   "metadata": {},
   "source": [
    "#### Next, we define the function for decomposing the Hamiltonian into Pauli matrices."
   ]
  },
  {
   "cell_type": "code",
   "execution_count": 5,
   "metadata": {},
   "outputs": [],
   "source": [
    "#Hilbert-Schmidt-Product of two matrices M1, M2\n",
    "def HS(M1, M2):\n",
    "    return (np.dot(M1.conjugate().transpose(), M2)).trace()\n",
    "\n",
    "def decompose(H):   \n",
    "    S = [I, PauliX, PauliY, PauliZ]\n",
    "    labels = ['I', 'Pauli_x', 'Pauli_y', 'Pauli_z']\n",
    "    for i in range(4):\n",
    "        for j in range(4):\n",
    "            label = labels[i] + ' \\otimes ' + labels[j]\n",
    "            a_ij = 0.25 * HS(np.kron(S[i], S[j]), H)\n",
    "            if a_ij != 0.0:\n",
    "                print(a_ij,\"    *    \", label)"
   ]
  },
  {
   "cell_type": "code",
   "execution_count": 6,
   "metadata": {},
   "outputs": [
    {
     "name": "stdout",
     "output_type": "stream",
     "text": [
      "(0.5+0j)     *     I \\otimes I\n",
      "(-0.5+0j)     *     Pauli_x \\otimes Pauli_x\n",
      "(-0.5+0j)     *     Pauli_y \\otimes Pauli_y\n",
      "(0.5+0j)     *     Pauli_z \\otimes Pauli_z\n"
     ]
    }
   ],
   "source": [
    "Hamiltonian = np.array([[1,0,0,0],[0,0,-1,0],[0,-1,0,0],[0,0,0,1]], dtype=np.complex128)\n",
    "decompose(Hamiltonian)"
   ]
  },
  {
   "cell_type": "markdown",
   "metadata": {},
   "source": [
    "#### We have decomposed the Hamiltonian and obtained the coefficients. "
   ]
  },
  {
   "cell_type": "code",
   "execution_count": 7,
   "metadata": {},
   "outputs": [],
   "source": [
    "g0 = 0.5      # coefficient of I tensor I\n",
    "g1 = +0.5     # coefficient of Pauli Z tensor Pauli Z\n",
    "g2 = -0.5     # coefficient of Pauli Y tensor Pauli Y\n",
    "g3 = -0.5     # coefficient of Pauli X tensor Pauli X"
   ]
  },
  {
   "cell_type": "markdown",
   "metadata": {},
   "source": [
    "The classical minimum expectation energy of the Hamiltonian can be calculated by taking the first entry from np.linalg.eigvalsh(Hamiltonian)."
   ]
  },
  {
   "cell_type": "code",
   "execution_count": 8,
   "metadata": {},
   "outputs": [
    {
     "name": "stdout",
     "output_type": "stream",
     "text": [
      "Classical diagonalization energy:  -1.0\n"
     ]
    }
   ],
   "source": [
    "classical_energy = np.linalg.eigvalsh(Hamiltonian)[0] # taking the lowest value\n",
    "print(\"Classical diagonalization energy: \", classical_energy)"
   ]
  },
  {
   "cell_type": "markdown",
   "metadata": {},
   "source": [
    "Now let's define the initial state of the qubits. We take the intial state as |01>. "
   ]
  },
  {
   "cell_type": "code",
   "execution_count": 9,
   "metadata": {},
   "outputs": [
    {
     "name": "stdout",
     "output_type": "stream",
     "text": [
      "[[0.]\n",
      " [1.]\n",
      " [0.]\n",
      " [0.]]\n"
     ]
    }
   ],
   "source": [
    "# initializing basis state as |01> \n",
    "psi0 = np.zeros((4,1))\n",
    "psi0[1] = 1\n",
    "print(psi0)"
   ]
  },
  {
   "cell_type": "markdown",
   "metadata": {},
   "source": [
    "#### For the ansatz, we choose the following quantum circuit. The blue line shows qubit 1 and the red line qubit 0. RZ is the rotational gate with variational parameter theta."
   ]
  },
  {
   "cell_type": "markdown",
   "metadata": {},
   "source": [
    "![image](https://github.com/abhishekjay/VQE-QOSF-Task4/blob/master/assets/vqe-ansatz.PNG?raw=true)"
   ]
  },
  {
   "cell_type": "code",
   "execution_count": 10,
   "metadata": {},
   "outputs": [],
   "source": [
    "# the ansatz is read from right to left\n",
    "ansatz = lambda theta: (np.dot(np.dot(np.kron(-Ry(np.pi/2),Rx(np.pi/2)),\n",
    "                                      np.dot(CNOT10, \n",
    "                                             np.dot(np.kron(I,Rz(theta)),\n",
    "                                                    CNOT10))),\n",
    "                               np.kron(Ry(np.pi/2),-Rx(np.pi/2))))"
   ]
  },
  {
   "cell_type": "markdown",
   "metadata": {},
   "source": [
    "#### We can now define the projective measurements for each decomposition. "
   ]
  },
  {
   "cell_type": "code",
   "execution_count": 11,
   "metadata": {},
   "outputs": [],
   "source": [
    "def projective(theta,ansatz,psi0):\n",
    "    circuit = ansatz(theta[0])\n",
    "    psi = np.dot(circuit,psi0)\n",
    "    \n",
    "    measureZ = lambda U: np.dot(np.conj(U).T,np.dot(np.kron(PauliZ,I),U))   \n",
    "    \n",
    "    energy = 0.0\n",
    "     \n",
    "    energy += g0\n",
    "\n",
    "    # <PauliZ1 PauliZ0>\n",
    "    U = CNOT01\n",
    "    energy += g1*np.dot(psi.conj().T,np.dot(measureZ(U),psi))\n",
    "    \n",
    "    # <PauliY1 PauliY0>\n",
    "    U = np.dot(CNOT01,np.kron(np.dot(H,S.conj().T),np.dot(H,S.conj().T)))\n",
    "    energy += g2*np.dot(psi.conj().T,np.dot(measureZ(U),psi))\n",
    "\n",
    "    # <PauliX1 PauliX0>\n",
    "    U = np.dot(CNOT01,np.kron(H,H))\n",
    "    energy += g3*np.dot(psi.conj().T,np.dot(measureZ(U),psi))\n",
    "\n",
    "    return np.real(energy)[0,0]"
   ]
  },
  {
   "cell_type": "markdown",
   "metadata": {},
   "source": [
    "#### Finally, we can estimate the lowest eigenstate of the hamiltonian using VQE, by minimizing the energy."
   ]
  },
  {
   "cell_type": "code",
   "execution_count": 12,
   "metadata": {},
   "outputs": [
    {
     "name": "stdout",
     "output_type": "stream",
     "text": [
      "VQE: \n",
      "theta:  -1.5707963307033854  deg\n",
      "energy:  -1.0000000000000004  Eh\n"
     ]
    }
   ],
   "source": [
    "theta  = [0.0]\n",
    "result = minimize(projective,theta,args=(ansatz,psi0))\n",
    "theta  = result.x[0]\n",
    "val    = result.fun\n",
    "\n",
    "\n",
    "print(\"VQE: \")\n",
    "print(\"theta: \", theta, \" deg\")\n",
    "print(\"energy: \", val, \" Eh\")"
   ]
  },
  {
   "cell_type": "markdown",
   "metadata": {},
   "source": [
    "#### The energy values obtained from classical solution and VQE match."
   ]
  }
 ],
 "metadata": {
  "kernelspec": {
   "display_name": "Python 3",
   "language": "python",
   "name": "python3"
  },
  "language_info": {
   "codemirror_mode": {
    "name": "ipython",
    "version": 3
   },
   "file_extension": ".py",
   "mimetype": "text/x-python",
   "name": "python",
   "nbconvert_exporter": "python",
   "pygments_lexer": "ipython3",
   "version": "3.7.6"
  }
 },
 "nbformat": 4,
 "nbformat_minor": 4
}
